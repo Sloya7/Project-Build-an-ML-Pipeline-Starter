{
 "cells": [
  {
   "cell_type": "code",
   "execution_count": 1,
   "id": "adfa718c",
   "metadata": {},
   "outputs": [
    {
     "name": "stdout",
     "output_type": "stream",
     "text": [
      "1.30.0\n"
     ]
    }
   ],
   "source": [
    "import mlflow\n",
    "print(mlflow.__version__)"
   ]
  },
  {
   "cell_type": "code",
   "execution_count": 5,
   "id": "d3005e28",
   "metadata": {},
   "outputs": [],
   "source": [
    "test = 'download'"
   ]
  },
  {
   "cell_type": "code",
   "execution_count": 6,
   "id": "2ac9a226",
   "metadata": {},
   "outputs": [],
   "source": [
    "new_test = test.split(',')"
   ]
  },
  {
   "cell_type": "code",
   "execution_count": 7,
   "id": "c4f35c19",
   "metadata": {},
   "outputs": [
    {
     "data": {
      "text/plain": [
       "['download']"
      ]
     },
     "execution_count": 7,
     "metadata": {},
     "output_type": "execute_result"
    }
   ],
   "source": [
    "new_test"
   ]
  },
  {
   "cell_type": "code",
   "execution_count": null,
   "id": "5e93ba1a",
   "metadata": {},
   "outputs": [],
   "source": []
  }
 ],
 "metadata": {
  "kernelspec": {
   "display_name": "Python 3 (ipykernel)",
   "language": "python",
   "name": "python3"
  },
  "language_info": {
   "codemirror_mode": {
    "name": "ipython",
    "version": 3
   },
   "file_extension": ".py",
   "mimetype": "text/x-python",
   "name": "python",
   "nbconvert_exporter": "python",
   "pygments_lexer": "ipython3",
   "version": "3.9.19"
  }
 },
 "nbformat": 4,
 "nbformat_minor": 5
}
